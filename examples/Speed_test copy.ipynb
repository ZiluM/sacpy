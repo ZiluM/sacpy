{
 "cells": [
  {
   "cell_type": "code",
   "execution_count": 1,
   "metadata": {},
   "outputs": [],
   "source": [
    "import numpy as np\n",
    "import sacpy as scp\n",
    "import matplotlib.pyplot as plt\n",
    "import xarray as xr"
   ]
  },
  {
   "cell_type": "code",
   "execution_count": 2,
   "metadata": {},
   "outputs": [],
   "source": [
    "# load sst\n",
    "sst = scp.load_sst()['sst']\n",
    "# get ssta\n",
    "ssta = scp.get_anom(sst,method=1)\n",
    "# calculate Nino3.4\n",
    "Nino34 = ssta.loc[:,-5:5,190:240].mean(axis=(1,2))\n",
    "\n",
    "Nino34_ar = np.array(Nino34)\n",
    "ssta_ar = np.array(ssta)"
   ]
  },
  {
   "cell_type": "code",
   "execution_count": 3,
   "metadata": {},
   "outputs": [],
   "source": [
    "import scipy.stats as sts\n",
    "\n",
    "\n",
    "def for_loop_reg(nino34, ssta):\n",
    "    rvalue = np.zeros_like(ssta[0])\n",
    "    p = np.zeros_like(ssta[0])\n",
    "    for i in range(rvalue.shape[0]):\n",
    "        for j in range(rvalue.shape[1]):\n",
    "            res = sts.linregress(nino34, ssta[:, i, j])\n",
    "            rvalue[i, j], p[i, j] = res.rvalue, res.pvalue\n",
    "    return rvalue, p"
   ]
  },
  {
   "cell_type": "code",
   "execution_count": null,
   "metadata": {},
   "outputs": [
    {
     "data": {
      "text/plain": [
       "(16201, 496)"
      ]
     },
     "execution_count": 59,
     "metadata": {},
     "output_type": "execute_result"
    }
   ],
   "source": [
    "var_for_np = np.concatenate([ssta_ar.reshape((Nino34_ar.shape[0], -1)), \n",
    "        Nino34_ar[:, np.newaxis]], axis=1).T\n",
    "var_for_np.shape"
   ]
  },
  {
   "cell_type": "code",
   "execution_count": 16,
   "metadata": {},
   "outputs": [
    {
     "data": {
      "text/plain": [
       "<matplotlib.contour.QuadContourSet at 0x7fc03c65ee50>"
      ]
     },
     "execution_count": 16,
     "metadata": {},
     "output_type": "execute_result"
    },
    {
     "data": {
      "image/png": "[encoded data removed]",
      "text/plain": [
       "<Figure size 432x288 with 1 Axes>"
      ]
     },
     "metadata": {
      "needs_background": "light"
     },
     "output_type": "display_data"
    }
   ],
   "source": [
    "x_for_scipy = ssta_ar.reshape((Nino34_ar.shape[0], -1)).T\n",
    "y_for_scipy = Nino34_ar[:,np.newaxis].T\n",
    "from scipy.spatial.distance import cdist"
   ]
  },
  {
   "cell_type": "code",
   "execution_count": null,
   "metadata": {},
   "outputs": [
    {
     "name": "stdout",
     "output_type": "stream",
     "text": [
      "CPU times: user 7.8 s, sys: 0 ns, total: 7.8 s\n",
      "Wall time: 7.84 s\n"
     ]
    }
   ],
   "source": [
    "%time for i in range(50): xr.corr(ssta,Nino34,dim=\"time\")"
   ]
  },
  {
   "cell_type": "code",
   "execution_count": null,
   "metadata": {},
   "outputs": [
    {
     "name": "stdout",
     "output_type": "stream",
     "text": [
      "CPU times: user 4.42 s, sys: 3.8 s, total: 8.22 s\n",
      "Wall time: 1.54 s\n"
     ]
    }
   ],
   "source": [
    "%time for i in range(50): scp.LinReg(Nino34_ar,ssta_ar)"
   ]
  },
  {
   "cell_type": "code",
   "execution_count": null,
   "metadata": {},
   "outputs": [
    {
     "name": "stdout",
     "output_type": "stream",
     "text": [
      "CPU times: user 1min 28s, sys: 0 ns, total: 1min 28s\n",
      "Wall time: 1min 28s\n"
     ]
    }
   ],
   "source": [
    "%time for i in range(50): rvalue, p = for_loop_reg(Nino34_ar, ssta_ar)"
   ]
  },
  {
   "cell_type": "code",
   "execution_count": null,
   "metadata": {},
   "outputs": [
    {
     "name": "stdout",
     "output_type": "stream",
     "text": [
      "CPU times: user 9min 6s, sys: 1min 57s, total: 11min 3s\n",
      "Wall time: 5min 10s\n"
     ]
    }
   ],
   "source": [
    "%time for i in range(50): np.corrcoef(var_for_np)"
   ]
  },
  {
   "cell_type": "code",
   "execution_count": 19,
   "metadata": {},
   "outputs": [
    {
     "name": "stdout",
     "output_type": "stream",
     "text": [
      "CPU times: user 1.7 s, sys: 2.67 s, total: 4.38 s\n",
      "Wall time: 4.36 s\n"
     ]
    }
   ],
   "source": [
    "%time for i in range(50): cdist(x_for_scipy,y_for_scipy)"
   ]
  },
  {
   "cell_type": "code",
   "execution_count": 22,
   "metadata": {},
   "outputs": [
    {
     "data": {
      "image/png": "[encoded data removed]",
      "text/plain": [
       "<Figure size 432x288 with 1 Axes>"
      ]
     },
     "metadata": {
      "needs_background": "light"
     },
     "output_type": "display_data"
    }
   ],
   "source": [
    "time_list = [1.54, 4.36, 7.84, 88, 310]\n",
    "plt.rc('font', family='Times New Roman', size=15)\n",
    "names = [\"sacpy\", \"scipy.cdist\", \"xarray.corr\", \"for-loop\", \"numpy.corrcoef\"]\n",
    "x = np.arange(5)\n",
    "plt.bar(x, time_list, width=0.4, color=\"C4\")\n",
    "plt.xticks(x, names)\n",
    "for i in range(5):\n",
    "    plt.text(x[i] - 0.15, time_list[i] + 1.1, list(map(lambda x: str(x), time_list))[i])\n",
    "plt.ylabel(\"cost time (s)\")\n",
    "plt.ylim(0, 330)\n",
    "plt.savefig(\"../pic/speed_test_00.png\")\n"
   ]
  }
 ],
 "metadata": {
  "kernelspec": {
   "display_name": "Python 3.9.12 ('base')",
   "language": "python",
   "name": "python3"
  },
  "language_info": {
   "codemirror_mode": {
    "name": "ipython",
    "version": 3
   },
   "file_extension": ".py",
   "mimetype": "text/x-python",
   "name": "python",
   "nbconvert_exporter": "python",
   "pygments_lexer": "ipython3",
   "version": "3.9.12"
  },
  "orig_nbformat": 4,
  "vscode": {
   "interpreter": {
    "hash": "d9650bf475f579d5a6ad4ca47bb77593c01ffca6cdcbae5b254376cbd497ff8d"
   }
  }
 },
 "nbformat": 4,
 "nbformat_minor": 2
}
